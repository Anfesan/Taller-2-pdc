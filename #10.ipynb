{
 "cells": [
  {
   "cell_type": "code",
   "execution_count": 14,
   "metadata": {},
   "outputs": [
    {
     "name": "stdout",
     "output_type": "stream",
     "text": [
      "[12.0, 21.0, 6.0]\n"
     ]
    }
   ],
   "source": [
    "#10 \n",
    "#Funcion para crear una lista que solo tenga los multipos de 3\n",
    "def listMod(x):\n",
    "    listB = [i for i in x if i%3==0] #loop atraves de la matriz y solo añadir si el modulo%3 es 0\n",
    "    return listB \n",
    "\n",
    "if __name__ == \"__main__\": \n",
    "    listNum = []\n",
    "    #Pedir al cantidad de numeros a valorar\n",
    "    cantidad=int(input((\"Ingrese la cantidad de numeros a valorar : \")))\n",
    "    # Pedir los numeros a añadir en la lista\n",
    "    for i in range(cantidad):\n",
    "        listNum.append(float(input((\"Ingrese el \" + str(i+1) +\" número: \"))))\n",
    "    #print con la funcion de multiplos\n",
    "    print(listMod(listNum))\n",
    "    \n",
    "        \n",
    "\n"
   ]
  }
 ],
 "metadata": {
  "kernelspec": {
   "display_name": "Python 3",
   "language": "python",
   "name": "python3"
  },
  "language_info": {
   "codemirror_mode": {
    "name": "ipython",
    "version": 3
   },
   "file_extension": ".py",
   "mimetype": "text/x-python",
   "name": "python",
   "nbconvert_exporter": "python",
   "pygments_lexer": "ipython3",
   "version": "3.12.2"
  }
 },
 "nbformat": 4,
 "nbformat_minor": 2
}
