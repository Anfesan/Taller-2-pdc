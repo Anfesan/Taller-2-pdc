{
 "cells": [
  {
   "cell_type": "code",
   "execution_count": null,
   "metadata": {},
   "outputs": [],
   "source": [
    "# 4.Diseñar una función que permita calcular una aproximación de la función coseno alrededor de 0 para cualquier valor x (real), utilizando los primeros n términos de la serie de Taylor. nota: use math para traer la función coseno y mostrar la diferencia entre el valor real y la aproximación. Calcule con cuántos términos de la serie (i.e: cuáles valores de n), se tienen errores del 10%, 1%, 0.1% y 0.001%.\n",
    "\n",
    "\n",
    "\n",
    "import math\n",
    "\n",
    "def aproximacion_coseno(x, terminos):\n",
    "    # Se normalizó el valor de x para que esté dentro del rango [0, 2π).\n",
    "    x = x % (2 * math.pi)\n",
    "    cos_x = 0\n",
    "    \n",
    "    # Se calculó la serie de Taylor para el coseno hasta el número de términos especificado.\n",
    "    for i in range(terminos):\n",
    "        term = ((-1) ** i) * (x ** (2 * i)) / math.factorial(2 * i)\n",
    "        cos_x += term\n",
    "    \n",
    "    return cos_x\n",
    "\n",
    "def n_terminos(x, m_list):\n",
    "    # Se calculó el valor real del coseno de x utilizando la función incorporada de Python.\n",
    "    real = math.cos(x)\n",
    "    results = []\n",
    "\n",
    "    # Para cada valor de m en la lista, se encontró el número de términos necesario para lograr el error relativo deseado.\n",
    "    for m in m_list:\n",
    "        n = 1\n",
    "        aproximacion = aproximacion_coseno(x, n)\n",
    "        z = abs((aproximacion - real) / real) * 100\n",
    "\n",
    "        # Se ajustó el número de términos hasta que el error relativo fue menor que m.\n",
    "        while z > m:\n",
    "            n += 1\n",
    "            aproximacion = aproximacion_coseno(x, n)\n",
    "            z = abs((aproximacion - real) / real) * 100\n",
    "\n",
    "        # Se almacenaron los resultados correspondientes a cada valor de m.\n",
    "        results.append((m, n, aproximacion, z))\n",
    "\n",
    "    return results\n",
    "\n",
    "x = float(input(\"Ingrese el valor de x: \"))\n",
    "m_list = [10, 1, 0.1, 0.001]\n",
    "real = math.cos(x)\n",
    "resultados = n_terminos(x, m_list)\n",
    "\n",
    "# Se imprimieron los resultados para cada valor de m en la lista.\n",
    "for m, terminos, aproximacion, z in resultados:\n",
    "    print(f\"\\nPara un error relativo menor a {m}%:\")\n",
    "    print(f\"El aproximado del coseno de x es: {aproximacion}\")\n",
    "    print(f\"El valor real del coseno de x es: {real}\")\n",
    "    print(f\"Los términos necesarios son: {terminos}\")\n",
    "    print(f\"Error relativo (%): {z}\")"
   ]
  }
 ],
 "metadata": {
  "kernelspec": {
   "display_name": "Python 3",
   "language": "python",
   "name": "python3"
  },
  "language_info": {
   "name": "python",
   "version": "3.12.2"
  }
 },
 "nbformat": 4,
 "nbformat_minor": 2
}
