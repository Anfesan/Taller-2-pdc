{
 "cells": [
  {
   "cell_type": "code",
   "execution_count": null,
   "metadata": {},
   "outputs": [],
   "source": [
    "#8. Desarrollar un programa que dadas dos listas determine que elementos tiene la primer lista que no tenga la segunda lista.\n",
    "def elementos_primera_lista_no_en_segunda (lista_1,lista_2):\n",
    "  for i in lista_1:\n",
    "    if i not in lista_2: #se comparan elementos entre las dos listas\n",
    "      print(i)\n",
    "      return\n",
    "  print(\"Todos los elementos de la primera lista están en la segunda \")\n",
    "\n",
    "if __name__ == \"__main__\":\n",
    "  n = int(input(\"Ingrese la cantidad de elementos que desea que tenga el arreglo 1 \")) #se ingresa por teclado la cantidad que el usuario quiera\n",
    "  m = int(input(\"Ingrese la cantidad de elementos que desea que tenga el arreglo 2 \"))\n",
    "  lista_1 = [] #se crea una lista vacía\n",
    "  lista_2 = []\n",
    "  for i in range (n): #para cada elemento dentro del rango de n:\n",
    "    a = str(input(\"Ingrese el elemento #\" +str(i+1)+ \" para el arreglo 1 \"))  #preguntar qué elementos irán dentro del arreglo\n",
    "    lista_1.append(a) #agregar dichos elementos en la lista creada anteriormente\n",
    "  for j in range (m):\n",
    "    b = str(input(\"Ingrese el elemento #\" +str(j+1)+ \" para el arreglo 2 \"))\n",
    "    lista_2.append(b)\n",
    "  elementos_primera_lista_no_en_segunda(lista_1,lista_2)\n",
    "  print(lista_1) #se imprimen las listas para verificar\n",
    "  print(lista_2)"
   ]
  }
 ],
 "metadata": {
  "language_info": {
   "name": "python"
  }
 },
 "nbformat": 4,
 "nbformat_minor": 2
}
