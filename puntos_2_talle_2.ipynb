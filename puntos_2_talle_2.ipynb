{
 "cells": [
  {
   "cell_type": "code",
   "execution_count": null,
   "metadata": {},
   "outputs": [],
   "source": [
    "#2. Desarrollar un programa que ingrese un número flotante n y separe su parte entera de la parte decimal, y luego entregue los dígitos tanto de la parte entera como de la decimal.\n",
    "\n",
    "def separar_digitos(n):\n",
    "    parte_entera = int(n)  # Obtiene la parte entera del número\n",
    "    parte_decimal = str(n).split('.')[1] if '.' in str(n) else ''  # Obtiene la parte decimal del número como cadena\n",
    "\n",
    "    # Separa los dígitos de la parte entera\n",
    "    digitos_entera = []\n",
    "    while parte_entera > 0:\n",
    "        digito = parte_entera % 10\n",
    "        digitos_entera.insert(0, digito)\n",
    "        parte_entera = parte_entera // 10\n",
    "\n",
    "    # Separa los dígitos de la parte decimal\n",
    "    digitos_decimal = [int(d) for d in parte_decimal] if parte_decimal else [0]\n",
    "\n",
    "    return digitos_entera, digitos_decimal\n",
    "\n",
    "n = float(input(\"Ingrese un número flotante: \"))\n",
    "digitos_entera, digitos_decimal = separar_digitos(n)\n",
    "\n",
    "print(\"Los dígitos de la parte entera son:\", digitos_entera)\n",
    "print(\"Los dígitos de la parte decimal son:\", digitos_decimal)\n",
    "\n"
   ]
  }
 ],
 "metadata": {
  "language_info": {
   "name": "python"
  }
 },
 "nbformat": 4,
 "nbformat_minor": 2
}
