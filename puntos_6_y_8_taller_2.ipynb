{
 "cells": [
  {
   "cell_type": "code",
   "execution_count": 3,
   "metadata": {},
   "outputs": [
    {
     "name": "stdout",
     "output_type": "stream",
     "text": [
      "La lista tiene elementos repetidos?: False\n"
     ]
    }
   ],
   "source": [
    "#6. Desarrollar un programa que determine si en una lista existen o no elementos repetidos. Pista: Maneje valores booleanos y utilice el operador in.\n",
    "def existencia_elementos_repetidos (lista):\n",
    "  lista_elementos_unicos = [] #lista auxiliar\n",
    "\n",
    "  for i in lista: #para cada elemento en lista(esta se muestra abajo, fuera de la función)\n",
    "    if i in lista_elementos_unicos: #si el elemento ya está en la lista auxiliar, hay elementos repetidos\n",
    "      return True\n",
    "    lista_elementos_unicos.append(i) #Agregar los elementos a la lista auxiliar\n",
    "\n",
    "  return False\n",
    "\n",
    "if __name__ == \"__main__\":\n",
    "  n = int(input(\"Ingrese la cantidad de elementos que desea que tenga el arreglo \")) #se ingresa por teclado la cantidad que el usuario quiera\n",
    "  lista = [] #se crea una lista vacía\n",
    "\n",
    "  for i in range (n): #para cada elemento dentro del rango de n:\n",
    "    a = (input(\"Ingrese el elemento #\" +str(i+1)+ \" para el arreglo \"))  #preguntar qué elementos irán dentro del arreglo\n",
    "    lista.append(a) #agregar dichos elementos en la lista creada anteriormente\n",
    "  print(f\"La lista tiene elementos repetidos?: {existencia_elementos_repetidos(lista)}\")"
   ]
  },
  {
   "cell_type": "code",
   "execution_count": null,
   "metadata": {},
   "outputs": [],
   "source": [
    "#8. Desarrollar un programa que dadas dos listas determine que elementos tiene la primer lista que no tenga la segunda lista.\n",
    "def elementos_primera_lista_no_en_segunda (lista_1,lista_2):\n",
    "  for i in lista_1:\n",
    "    if i not in lista_2: #se comparan elementos entre las dos listas\n",
    "      print(i)\n",
    "\n",
    "  print(\"Todos los elementos de la primera lista están en la segunda \")\n",
    "\n",
    "if __name__ == \"__main__\":\n",
    "  n = int(input(\"Ingrese la cantidad de elementos que desea que tenga el arreglo 1 \")) #se ingresa por teclado la cantidad que el usuario quiera\n",
    "  m = int(input(\"Ingrese la cantidad de elementos que desea que tenga el arreglo 2 \"))\n",
    "  lista_1 = [] #se crea una lista vacía\n",
    "  lista_2 = []\n",
    "  for i in range (n): #para cada elemento dentro del rango de n:\n",
    "    a = str(input(\"Ingrese el elemento #\" +str(i+1)+ \" para el arreglo 1 \"))  #preguntar qué elementos irán dentro del arreglo\n",
    "    lista_1.append(a) #agregar dichos elementos en la lista creada anteriormente\n",
    "  for j in range (m):\n",
    "    b = str(input(\"Ingrese el elemento #\" +str(j+1)+ \" para el arreglo 2 \"))\n",
    "    lista_2.append(b)\n",
    "  elementos_primera_lista_no_en_segunda(lista_1,lista_2)\n",
    "  print(lista_1) #se imprimen las listas para verificar\n",
    "  print(lista_2)"
   ]
  }
 ],
 "metadata": {
  "kernelspec": {
   "display_name": "Python 3",
   "language": "python",
   "name": "python3"
  },
  "language_info": {
   "codemirror_mode": {
    "name": "ipython",
    "version": 3
   },
   "file_extension": ".py",
   "mimetype": "text/x-python",
   "name": "python",
   "nbconvert_exporter": "python",
   "pygments_lexer": "ipython3",
   "version": "3.10.11"
  }
 },
 "nbformat": 4,
 "nbformat_minor": 2
}
